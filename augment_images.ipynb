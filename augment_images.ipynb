{
  "cells": [
    {
      "cell_type": "markdown",
      "metadata": {
        "id": "XBEOrw2ONWTb"
      },
      "source": [
        "# Imports"
      ]
    },
    {
      "cell_type": "markdown",
      "metadata": {
        "id": "ipSpstp8gFLu"
      },
      "source": [
        "# Pipeline\n",
        "\n",
        "\n",
        "1.   Tratamento dos Dados\n",
        "2.   Configuração da Rede\n",
        "3.   Treinamento\n",
        "4.   Teste\n",
        "5.   Conclusões\n"
      ]
    },
    {
      "cell_type": "markdown",
      "metadata": {
        "id": "fHVeZPKBzR-c"
      },
      "source": [
        "# 📈 Objetivos do Projeto\n",
        "1. Aplicação da Arquitetura da Yolo V3, V5, V7 ❌\n",
        "2. Fine-Tuning delas para nosso Dataset ❌\n",
        "3. Benchmark das Yolos explicando o porquê dos resultados obtidos ❌\n",
        "4. Uso de uma ou mais CNNs clássicas no Dataset e fazer um benchmark das mesmas com a Yolo, explicando seus resultados ❌\n",
        "---\n",
        "# 🗿 Objetivos extras\n",
        "*   Normalizar o Dataset ✅\n",
        "*   Fazer Data Augmentation no Dataset ❌\n",
        "*   Buscar uma versão quantizada do Modelo e Testar ❌\n",
        "*   Testar a Fast-YOLO ❌\n",
        "\n"
      ]
    },
    {
      "cell_type": "markdown",
      "metadata": {
        "id": "EvNym6GKgFmn"
      },
      "source": [
        "# 1. Tratamento dos Dados"
      ]
    },
    {
      "cell_type": "markdown",
      "metadata": {
        "id": "iUp_L-K0urnH"
      },
      "source": [
        "## 1.1 Download dos Dados\n",
        "O tempo médio para essa pipeline terminar é de 10min"
      ]
    },
    {
      "cell_type": "code",
      "execution_count": 3,
      "metadata": {},
      "outputs": [],
      "source": [
        "import git\n",
        "import shutil\n",
        "import os\n",
        "import pandas as pd\n",
        "import matplotlib.pyplot as plt\n",
        "import matplotlib.image as mpimg\n",
        "import imageio.v2 as imageio\n",
        "import numpy as np\n",
        "# import utils\n",
        "# import torch\n",
        "from git import Repo\n",
        "from glob import glob\n",
        "from imgaug import augmenters as iaa\n",
        "from sklearn.model_selection import train_test_split"
      ]
    },
    {
      "cell_type": "code",
      "execution_count": 10,
      "metadata": {},
      "outputs": [],
      "source": [
        "cur_dir = os.getcwd()"
      ]
    },
    {
      "cell_type": "code",
      "execution_count": 4,
      "metadata": {
        "id": "JahgPCChNh2-"
      },
      "outputs": [],
      "source": [
        "\n",
        "\n",
        "def clone_repository(repo_url, dest_folder=''):\n",
        "    Repo.clone_from(repo_url, dest_folder)\n"
      ]
    },
    {
      "cell_type": "code",
      "execution_count": 3,
      "metadata": {
        "id": "pz1SHFTHo0i-"
      },
      "outputs": [],
      "source": [
        "clone_repository('https://github.com/tnpb-1st/dl-project-datasets.git', 'original_data')"
      ]
    },
    {
      "cell_type": "markdown",
      "metadata": {
        "id": "8aR1KBlCmJe8"
      },
      "source": [
        "## 1.2 Tratamento dos Dados"
      ]
    },
    {
      "cell_type": "code",
      "execution_count": 5,
      "metadata": {
        "id": "uTpVLmEcmWnv"
      },
      "outputs": [],
      "source": [
        "PRES_LINE_BREAK = \"-\"*50"
      ]
    },
    {
      "cell_type": "markdown",
      "metadata": {
        "id": "N3pCuVhemPfK"
      },
      "source": [
        "### Criação do Dataframe e informações básicas do mesmo"
      ]
    },
    {
      "cell_type": "code",
      "execution_count": 6,
      "metadata": {
        "id": "hvAsYENVRGWN"
      },
      "outputs": [],
      "source": [
        "def create_dataframe_from_images_dir(base_dir:str, csv_orig_dir:str):\n",
        "    \"\"\"\n",
        "    Cria um DataFrame do pandas contendo informações sobre imagens em um diretório.\n",
        "\n",
        "    Parâmetros:\n",
        "    - base_dir: str, o diretório base onde as imagens e o arquivo CSV estão localizados.\n",
        "    - csv_filename: str, o nome do arquivo CSV com os rótulos das imagens.\n",
        "\n",
        "    Retorna:\n",
        "    - Um DataFrame do pandas com colunas para o ID do paciente, caminho da imagem, existência do arquivo de imagem,\n",
        "      olho (esquerdo/direito) e rótulos categóricos para o nível da doença.\n",
        "    \"\"\"\n",
        "    # Constrói o caminho para o arquivo CSV\n",
        "    shutil.copy(csv_orig_dir, base_dir)\n",
        "    csv_filename = csv_orig_dir.split('/')[-1]\n",
        "    csv_path = os.path.join(base_dir, csv_filename)\n",
        "\n",
        "    # Lê o arquivo CSV em um DataFrame\n",
        "    df = pd.read_csv(csv_path)\n",
        "\n",
        "    # Extrai o ID do paciente da coluna de imagem\n",
        "    df['PatientId'] = df['image'].map(lambda x: x.split('_')[0])\n",
        "\n",
        "    # Constrói o caminho para cada imagem\n",
        "    df['path'] = df['image'].map(lambda x: os.path.join(base_dir, '{}.jpeg'.format(x)))\n",
        "\n",
        "    # Verifica se o arquivo de imagem existe\n",
        "    df['exists'] = df['path'].map(os.path.exists)\n",
        "\n",
        "    # Determina o olho (esquerdo/direito) com base no nome da imagem\n",
        "    df['eye'] = df['image'].map(lambda x: 1 if x.split('_')[-1] == 'left' else 0)\n",
        "\n",
        "    # Supondo que exista uma coluna 'level' para a gravidade da doença; cria rótulos categóricos\n",
        "    df['level_cat'] = pd.Categorical(df['level'])\n",
        "\n",
        "    # Descarta linhas para as quais o arquivo de imagem não existe\n",
        "    df = df[df['exists']]\n",
        "\n",
        "    return df\n"
      ]
    },
    {
      "cell_type": "code",
      "execution_count": 11,
      "metadata": {
        "id": "GS93njAMj9yJ"
      },
      "outputs": [],
      "source": [
        "df = create_dataframe_from_images_dir(f'{cur_dir}/train/train_1024_1024', f'{cur_dir}/trainLabels.csv')"
      ]
    },
    {
      "cell_type": "code",
      "execution_count": 12,
      "metadata": {
        "colab": {
          "base_uri": "https://localhost:8080/",
          "height": 178
        },
        "id": "y-kIQq0BkO0z",
        "outputId": "a6dcb1ed-b544-437d-9b47-bf4b6aac60f2"
      },
      "outputs": [
        {
          "name": "stdout",
          "output_type": "stream",
          "text": [
            "Dataset Shape: (35126, 7)\n",
            "--------------------------------------------------\n"
          ]
        },
        {
          "data": {
            "text/html": [
              "<div>\n",
              "<style scoped>\n",
              "    .dataframe tbody tr th:only-of-type {\n",
              "        vertical-align: middle;\n",
              "    }\n",
              "\n",
              "    .dataframe tbody tr th {\n",
              "        vertical-align: top;\n",
              "    }\n",
              "\n",
              "    .dataframe thead th {\n",
              "        text-align: right;\n",
              "    }\n",
              "</style>\n",
              "<table border=\"1\" class=\"dataframe\">\n",
              "  <thead>\n",
              "    <tr style=\"text-align: right;\">\n",
              "      <th></th>\n",
              "      <th>image</th>\n",
              "      <th>level</th>\n",
              "      <th>PatientId</th>\n",
              "      <th>path</th>\n",
              "      <th>exists</th>\n",
              "      <th>eye</th>\n",
              "      <th>level_cat</th>\n",
              "    </tr>\n",
              "  </thead>\n",
              "  <tbody>\n",
              "    <tr>\n",
              "      <th>2828</th>\n",
              "      <td>3518_left</td>\n",
              "      <td>0</td>\n",
              "      <td>3518</td>\n",
              "      <td>/home/tomas-barros/Codes/dl-project-datasets/t...</td>\n",
              "      <td>True</td>\n",
              "      <td>1</td>\n",
              "      <td>0</td>\n",
              "    </tr>\n",
              "    <tr>\n",
              "      <th>1746</th>\n",
              "      <td>2185_left</td>\n",
              "      <td>0</td>\n",
              "      <td>2185</td>\n",
              "      <td>/home/tomas-barros/Codes/dl-project-datasets/t...</td>\n",
              "      <td>True</td>\n",
              "      <td>1</td>\n",
              "      <td>0</td>\n",
              "    </tr>\n",
              "    <tr>\n",
              "      <th>12407</th>\n",
              "      <td>15563_right</td>\n",
              "      <td>0</td>\n",
              "      <td>15563</td>\n",
              "      <td>/home/tomas-barros/Codes/dl-project-datasets/t...</td>\n",
              "      <td>True</td>\n",
              "      <td>0</td>\n",
              "      <td>0</td>\n",
              "    </tr>\n",
              "  </tbody>\n",
              "</table>\n",
              "</div>"
            ],
            "text/plain": [
              "             image  level PatientId  \\\n",
              "2828     3518_left      0      3518   \n",
              "1746     2185_left      0      2185   \n",
              "12407  15563_right      0     15563   \n",
              "\n",
              "                                                    path  exists  eye  \\\n",
              "2828   /home/tomas-barros/Codes/dl-project-datasets/t...    True    1   \n",
              "1746   /home/tomas-barros/Codes/dl-project-datasets/t...    True    1   \n",
              "12407  /home/tomas-barros/Codes/dl-project-datasets/t...    True    0   \n",
              "\n",
              "      level_cat  \n",
              "2828          0  \n",
              "1746          0  \n",
              "12407         0  "
            ]
          },
          "execution_count": 12,
          "metadata": {},
          "output_type": "execute_result"
        }
      ],
      "source": [
        "# shape\n",
        "print(f\"Dataset Shape: {df.shape}\")\n",
        "# dataframe sample\n",
        "print(PRES_LINE_BREAK)\n",
        "df.sample(3)"
      ]
    },
    {
      "cell_type": "code",
      "execution_count": 13,
      "metadata": {
        "colab": {
          "base_uri": "https://localhost:8080/",
          "height": 406
        },
        "id": "kH4Io2ubq57d",
        "outputId": "e3c9df69-9721-4739-b415-e9e7ff8fb92b"
      },
      "outputs": [
        {
          "data": {
            "image/png": "[encoded data removed]",
            "text/plain": [
              "<Figure size 640x480 with 1 Axes>"
            ]
          },
          "metadata": {},
          "output_type": "display_data"
        }
      ],
      "source": [
        "# img test\n",
        "_img = mpimg.imread(f'{cur_dir}/train/train_1024_1024/947_left.jpeg')\n",
        "plt.imshow(_img)\n",
        "plt.axis('off')\n",
        "plt.show()"
      ]
    },
    {
      "cell_type": "markdown",
      "metadata": {
        "id": "JRYNogS4rLU2"
      },
      "source": [
        "### Normalização dos Dados\n",
        "Vamos normalizar os dados de forma que todas as categorias tenham o mesmo número de exemplos. Infelizmente teremos o possível ônus de perder dados ao fazermos isso, mas planejamos testar futuramente com data Augmentation"
      ]
    },
    {
      "cell_type": "markdown",
      "metadata": {
        "id": "XCmwOMDSrp7F"
      },
      "source": [
        "#### Examinando a distribuição Atual"
      ]
    },
    {
      "cell_type": "code",
      "execution_count": 14,
      "metadata": {
        "colab": {
          "base_uri": "https://localhost:8080/",
          "height": 503
        },
        "id": "XQ89Mbj5rkgR",
        "outputId": "dad64213-0174-4789-d8b6-28ad5aa75938"
      },
      "outputs": [
        {
          "data": {
            "text/plain": [
              "array([[<Axes: title={'center': 'level'}>,\n",
              "        <Axes: title={'center': 'eye'}>]], dtype=object)"
            ]
          },
          "execution_count": 14,
          "metadata": {},
          "output_type": "execute_result"
        },
        {
          "data": {
            "image/png": "[encoded data removed]",
            "text/plain": [
              "<Figure size 1000x500 with 2 Axes>"
            ]
          },
          "metadata": {},
          "output_type": "display_data"
        }
      ],
      "source": [
        "df[['level', 'eye']].hist(figsize = (10, 5))"
      ]
    },
    {
      "cell_type": "code",
      "execution_count": 15,
      "metadata": {
        "id": "-vVcPbbYr6YN"
      },
      "outputs": [],
      "source": [
        "def normalize_dataframe(df):\n",
        "    \"\"\"\n",
        "    Normaliza o DataFrame dado, realizando amostragem estratificada para criar conjuntos de treino e validação,\n",
        "    e depois realiza uma amostragem para igualar o número de exemplos em cada categoria.\n",
        "\n",
        "    Parâmetros:\n",
        "    - df: DataFrame, o DataFrame a ser normalizado.\n",
        "\n",
        "    Retorna:\n",
        "    - Uma tupla contendo o DataFrame de treino normalizado e o DataFrame de validação.\n",
        "    \"\"\"\n",
        "    # Remove duplicatas considerando apenas 'PatientId' e 'level'\n",
        "    rr_df = df[['PatientId', 'level']].drop_duplicates()\n",
        "\n",
        "    # Divide os dados em conjuntos de treino e validação de forma estratificada\n",
        "    train_ids, valid_ids = train_test_split(rr_df['PatientId'],\n",
        "                                            test_size=0.25,\n",
        "                                            random_state=2018,\n",
        "                                            stratify=rr_df['level'])\n",
        "\n",
        "    # Cria os DataFrames de treino e validação usando os IDs selecionados\n",
        "    raw_train_df = df[df['PatientId'].isin(train_ids)]\n",
        "    valid_df = df[df['PatientId'].isin(valid_ids)]\n",
        "    print('train', raw_train_df.shape[0], 'validation', valid_df.shape[0])\n",
        "\n",
        "    # Realiza uma amostragem para igualar o número de exemplos para cada combinação de 'level' e 'eye'\n",
        "    train_df = raw_train_df.groupby(['level', 'eye']).apply(lambda x: x.sample(75, replace=True)\n",
        "                                                           ).reset_index(drop=True)\n",
        "    print('Novo Tamanho dos Dados: ', train_df.shape[0], 'Tamanho Antigo:', raw_train_df.shape[0])\n",
        "\n",
        "    # Retorna os DataFrames de treino e validação normalizados\n",
        "    return train_df, valid_df"
      ]
    },
    {
      "cell_type": "code",
      "execution_count": 16,
      "metadata": {
        "colab": {
          "base_uri": "https://localhost:8080/"
        },
        "id": "kKPqkhe-tSNL",
        "outputId": "db28a5e9-a3ae-4147-caaf-b9b8457a6e43"
      },
      "outputs": [
        {
          "name": "stdout",
          "output_type": "stream",
          "text": [
            "train 27176 validation 9632\n",
            "Novo Tamanho dos Dados:  750 Tamanho Antigo: 27176\n"
          ]
        }
      ],
      "source": [
        "df_norm_train, df_norm_test = normalize_dataframe(df)"
      ]
    },
    {
      "cell_type": "code",
      "execution_count": 17,
      "metadata": {
        "colab": {
          "base_uri": "https://localhost:8080/",
          "height": 503
        },
        "id": "P9J4dekCu3M8",
        "outputId": "86c66d08-5a63-41b6-93f4-f2c5edc25f8e"
      },
      "outputs": [
        {
          "data": {
            "text/plain": [
              "array([[<Axes: title={'center': 'level'}>,\n",
              "        <Axes: title={'center': 'eye'}>]], dtype=object)"
            ]
          },
          "execution_count": 17,
          "metadata": {},
          "output_type": "execute_result"
        },
        {
          "data": {
            "image/png": "[encoded data removed]",
            "text/plain": [
              "<Figure size 1000x500 with 2 Axes>"
            ]
          },
          "metadata": {},
          "output_type": "display_data"
        }
      ],
      "source": [
        "df_norm_train[['level', 'eye']].hist(figsize = (10, 5))"
      ]
    },
    {
      "cell_type": "code",
      "execution_count": 18,
      "metadata": {
        "colab": {
          "base_uri": "https://localhost:8080/",
          "height": 206
        },
        "id": "oqXf7UyhSKTy",
        "outputId": "57165b56-b46a-47a1-92f1-7b341d537b6e"
      },
      "outputs": [
        {
          "data": {
            "text/html": [
              "<div>\n",
              "<style scoped>\n",
              "    .dataframe tbody tr th:only-of-type {\n",
              "        vertical-align: middle;\n",
              "    }\n",
              "\n",
              "    .dataframe tbody tr th {\n",
              "        vertical-align: top;\n",
              "    }\n",
              "\n",
              "    .dataframe thead th {\n",
              "        text-align: right;\n",
              "    }\n",
              "</style>\n",
              "<table border=\"1\" class=\"dataframe\">\n",
              "  <thead>\n",
              "    <tr style=\"text-align: right;\">\n",
              "      <th></th>\n",
              "      <th>image</th>\n",
              "      <th>level</th>\n",
              "      <th>PatientId</th>\n",
              "      <th>path</th>\n",
              "      <th>exists</th>\n",
              "      <th>eye</th>\n",
              "      <th>level_cat</th>\n",
              "    </tr>\n",
              "  </thead>\n",
              "  <tbody>\n",
              "    <tr>\n",
              "      <th>0</th>\n",
              "      <td>10674_right</td>\n",
              "      <td>0</td>\n",
              "      <td>10674</td>\n",
              "      <td>/home/tomas-barros/Codes/dl-project-datasets/t...</td>\n",
              "      <td>True</td>\n",
              "      <td>0</td>\n",
              "      <td>0</td>\n",
              "    </tr>\n",
              "    <tr>\n",
              "      <th>1</th>\n",
              "      <td>20205_right</td>\n",
              "      <td>0</td>\n",
              "      <td>20205</td>\n",
              "      <td>/home/tomas-barros/Codes/dl-project-datasets/t...</td>\n",
              "      <td>True</td>\n",
              "      <td>0</td>\n",
              "      <td>0</td>\n",
              "    </tr>\n",
              "    <tr>\n",
              "      <th>2</th>\n",
              "      <td>27480_right</td>\n",
              "      <td>0</td>\n",
              "      <td>27480</td>\n",
              "      <td>/home/tomas-barros/Codes/dl-project-datasets/t...</td>\n",
              "      <td>True</td>\n",
              "      <td>0</td>\n",
              "      <td>0</td>\n",
              "    </tr>\n",
              "    <tr>\n",
              "      <th>3</th>\n",
              "      <td>35339_right</td>\n",
              "      <td>0</td>\n",
              "      <td>35339</td>\n",
              "      <td>/home/tomas-barros/Codes/dl-project-datasets/t...</td>\n",
              "      <td>True</td>\n",
              "      <td>0</td>\n",
              "      <td>0</td>\n",
              "    </tr>\n",
              "    <tr>\n",
              "      <th>4</th>\n",
              "      <td>17259_right</td>\n",
              "      <td>0</td>\n",
              "      <td>17259</td>\n",
              "      <td>/home/tomas-barros/Codes/dl-project-datasets/t...</td>\n",
              "      <td>True</td>\n",
              "      <td>0</td>\n",
              "      <td>0</td>\n",
              "    </tr>\n",
              "  </tbody>\n",
              "</table>\n",
              "</div>"
            ],
            "text/plain": [
              "         image  level PatientId  \\\n",
              "0  10674_right      0     10674   \n",
              "1  20205_right      0     20205   \n",
              "2  27480_right      0     27480   \n",
              "3  35339_right      0     35339   \n",
              "4  17259_right      0     17259   \n",
              "\n",
              "                                                path  exists  eye level_cat  \n",
              "0  /home/tomas-barros/Codes/dl-project-datasets/t...    True    0         0  \n",
              "1  /home/tomas-barros/Codes/dl-project-datasets/t...    True    0         0  \n",
              "2  /home/tomas-barros/Codes/dl-project-datasets/t...    True    0         0  \n",
              "3  /home/tomas-barros/Codes/dl-project-datasets/t...    True    0         0  \n",
              "4  /home/tomas-barros/Codes/dl-project-datasets/t...    True    0         0  "
            ]
          },
          "execution_count": 18,
          "metadata": {},
          "output_type": "execute_result"
        }
      ],
      "source": [
        "df_norm_train.head()"
      ]
    },
    {
      "cell_type": "markdown",
      "metadata": {
        "id": "kd8zAEqAZQKk"
      },
      "source": [
        "#### Data Augmentation\n"
      ]
    },
    {
      "cell_type": "code",
      "execution_count": 19,
      "metadata": {
        "id": "E-cbhoRZuccl"
      },
      "outputs": [],
      "source": [
        "def create_directory_structure(parent_dir):\n",
        "    \"\"\"\n",
        "    Verifica se o diretório pai e cada um dos subdiretórios já existem antes de tentar criá-los.\n",
        "    Cria uma estrutura de diretórios para treinamento, teste e validação com categorias de 0 a 4.\n",
        "\n",
        "    :param parent_dir: nome do diretório pai para criar a estrutura de diretórios\n",
        "    \"\"\"\n",
        "    # Verifica se o diretório pai existe, se não, cria\n",
        "    if not os.path.exists(parent_dir):\n",
        "        os.makedirs(parent_dir)\n",
        "\n",
        "    # Define os subdiretórios para treinamento, teste e validação\n",
        "    subdirs = ['train', 'test', 'val']\n",
        "\n",
        "    # Cria os diretórios e subdiretórios necessários\n",
        "    for subdir in subdirs:\n",
        "        for category in range(5):  # Categorias de 0 a 4\n",
        "            # Constrói o caminho para cada subdiretório de categoria\n",
        "            dir_path = os.path.join(parent_dir, subdir, str(category))\n",
        "            # Verifica se o diretório já existe antes de tentar criá-lo\n",
        "            if not os.path.exists(dir_path):\n",
        "                os.makedirs(dir_path)"
      ]
    },
    {
      "cell_type": "code",
      "execution_count": 20,
      "metadata": {
        "id": "QXEuBHUIZ1oX"
      },
      "outputs": [],
      "source": [
        "def augment_images_from_df(df, augmented_output_dir, threshold, add_txt_label=False, exclude_original_images=True):\n",
        "    if not os.path.exists(augmented_output_dir):\n",
        "        os.makedirs(augmented_output_dir)\n",
        "\n",
        "    seq = iaa.Sequential([\n",
        "        iaa.SomeOf(1, [\n",
        "            iaa.Affine(rotate=(-15, 15)),\n",
        "            iaa.Affine(scale={\"x\": (0.9, 1.1), \"y\": (0.9, 1.1)}),\n",
        "            iaa.TranslateX(percent=(-0.1, 0.1)),\n",
        "            iaa.TranslateY(percent=(-0.1, 0.1)),\n",
        "        ]),\n",
        "        iaa.ElasticTransformation(alpha=(0, 5.0), sigma=0.25),\n",
        "    ], random_order=True)\n",
        "\n",
        "    for level_cat, group in df.groupby('level_cat'):\n",
        "        label_dir = os.path.join(augmented_output_dir, str(level_cat))\n",
        "        os.makedirs(label_dir, exist_ok=True)\n",
        "\n",
        "        # Se a categoria tiver mais amostras que o threshold, seleciona uma amostra representativa\n",
        "        if len(group) > threshold:\n",
        "            group = group.sample(n=threshold, random_state=42)\n",
        "\n",
        "        current_samples = len(group)\n",
        "        additional_samples_needed = max(0, threshold - current_samples)\n",
        "\n",
        "        augmentation_rounds = np.ceil(additional_samples_needed / current_samples).astype(int) if additional_samples_needed > 0 else 1\n",
        "\n",
        "        for _, row in group.iterrows():\n",
        "            image_path = row['path']\n",
        "            image = imageio.imread(image_path)\n",
        "\n",
        "            for i in range(augmentation_rounds):\n",
        "                # Aplica a transformação mesmo se não precisarmos de imagens adicionais para garantir variabilidade\n",
        "                image_aug = seq(image=image) if augmentation_rounds > 0 else image\n",
        "                augmented_image_filename = f\"{os.path.splitext(os.path.basename(image_path))[0]}_aug_{i}.png\"\n",
        "                augmented_image_path = os.path.join(label_dir, augmented_image_filename)\n",
        "                imageio.imwrite(augmented_image_path, image_aug)\n",
        "\n",
        "                if add_txt_label:\n",
        "                    txt_label_path = os.path.join(label_dir, f\"{os.path.splitext(augmented_image_filename)[0]}.txt\")\n",
        "                    with open(txt_label_path, 'w') as txt_file:\n",
        "                        txt_file.write(str(level_cat))\n"
      ]
    },
    {
      "cell_type": "code",
      "execution_count": 21,
      "metadata": {
        "id": "3-HjWoHStLDc"
      },
      "outputs": [],
      "source": [
        "def merge_images_dir(parent_dir, df_valid, df_test):\n",
        "    \"\"\"\n",
        "    Organiza imagens em diretórios de validação e teste com base em DataFrames fornecidos.\n",
        "\n",
        "    :param parent_dir: diretório pai onde todas as imagens serão organizadas\n",
        "    :param df_valid: DataFrame com as imagens de validação\n",
        "    :param df_test: DataFrame com as imagens de teste\n",
        "    \"\"\"\n",
        "    # Cria diretórios de validação e teste, se não existirem\n",
        "    val_dir = os.path.join(parent_dir, 'val')\n",
        "    test_dir = os.path.join(parent_dir, 'test')\n",
        "    os.makedirs(val_dir, exist_ok=True)\n",
        "    os.makedirs(test_dir, exist_ok=True)\n",
        "\n",
        "    # Função para copiar imagens para o diretório correspondente\n",
        "    def copy_images(df, target_dir):\n",
        "        for _, row in df.iterrows():\n",
        "            level_cat = row['level_cat']\n",
        "            image_path = row['path']\n",
        "            dest_dir = os.path.join(target_dir, str(level_cat))\n",
        "            os.makedirs(dest_dir, exist_ok=True)  # Cria o diretório de destino, se não existir\n",
        "\n",
        "            # Copia a imagem para o diretório de destino\n",
        "            shutil.copy(image_path, os.path.join(dest_dir, os.path.basename(image_path)))\n",
        "\n",
        "    # Copia as imagens de validação e teste para os diretórios correspondentes\n",
        "    copy_images(df_valid, val_dir)\n",
        "    copy_images(df_test, test_dir)"
      ]
    },
    {
      "cell_type": "code",
      "execution_count": 22,
      "metadata": {
        "id": "sVCdpVeXugwZ"
      },
      "outputs": [],
      "source": [
        "create_directory_structure(f'{cur_dir}/yolo_data')"
      ]
    },
    {
      "cell_type": "code",
      "execution_count": null,
      "metadata": {
        "colab": {
          "background_save": true
        },
        "id": "9DrUrCY1Z55J"
      },
      "outputs": [],
      "source": [
        "augment_images_from_df(df, f'{cur_dir}/yolo_data/train', 5000, add_txt_label=False, exclude_original_images=True)"
      ]
    },
    {
      "cell_type": "code",
      "execution_count": null,
      "metadata": {
        "colab": {
          "background_save": true
        },
        "id": "7i72YeOYRPMH"
      },
      "outputs": [],
      "source": [
        "def split_and_copy_images(df, parent_dir):\n",
        "    # Encontra o número mínimo de amostras entre as categorias\n",
        "    min_samples = df['level_cat'].value_counts().min()\n",
        "\n",
        "    # Cria os diretórios de validação e teste, se não existirem\n",
        "    val_dir = os.path.join(parent_dir, 'val')\n",
        "    test_dir = os.path.join(parent_dir, 'test')\n",
        "    os.makedirs(val_dir, exist_ok=True)\n",
        "    os.makedirs(test_dir, exist_ok=True)\n",
        "\n",
        "    for category in df['level_cat'].unique():\n",
        "        category_df = df[df['level_cat'] == category]\n",
        "\n",
        "        # Seleciona aleatoriamente 'min_samples' de cada categoria\n",
        "        if len(category_df) > min_samples:\n",
        "            category_df = category_df.sample(n=min_samples, random_state=42)\n",
        "\n",
        "        # Divide os dados em conjuntos de teste e validação\n",
        "        train_df, val_df = train_test_split(category_df, test_size=0.5, random_state=42)\n",
        "\n",
        "        # Função auxiliar para copiar imagens para o diretório correto\n",
        "        def copy_images(images_df, target_dir):\n",
        "            target_category_dir = os.path.join(target_dir, str(category))\n",
        "            os.makedirs(target_category_dir, exist_ok=True)\n",
        "            for _, row in images_df.iterrows():\n",
        "                src_path = row['path']\n",
        "                dst_path = os.path.join(target_category_dir, os.path.basename(src_path))\n",
        "                shutil.copy(src_path, dst_path)\n",
        "\n",
        "        # Copia as imagens para os diretórios apropriados\n",
        "        copy_images(train_df, test_dir)\n",
        "        copy_images(val_df, val_dir)"
      ]
    },
    {
      "cell_type": "code",
      "execution_count": null,
      "metadata": {
        "id": "LWNGvyTnRV7w"
      },
      "outputs": [],
      "source": [
        "split_and_copy_images(df, 'yolo_data')"
      ]
    },
    {
      "cell_type": "code",
      "execution_count": null,
      "metadata": {
        "colab": {
          "background_save": true
        },
        "id": "cRSmYST2qGwX"
      },
      "outputs": [],
      "source": [
        "def count_images(directory):\n",
        "    for root, dirs, files in os.walk(directory):\n",
        "        # Use glob to filter files with image extensions\n",
        "        image_files = glob.glob(os.path.join(root, '*.[jJ][pP][gG]')) + \\\n",
        "                      glob.glob(os.path.join(root, '*.[jJ][pP][eE][gG]')) + \\\n",
        "                      glob.glob(os.path.join(root, '*.[pP][nN][gG]')) + \\\n",
        "                      glob.glob(os.path.join(root, '*.[gG][iI][fF]')) + \\\n",
        "                      glob.glob(os.path.join(root, '*.[bB][mM][pP]')) + \\\n",
        "                      glob.glob(os.path.join(root, '*.[tT][iI][fF][fF]')) + \\\n",
        "                      glob.glob(os.path.join(root, '*.[tT][iI][fF]')) + \\\n",
        "                      glob.glob(os.path.join(root, '*.[jJ][pP][2]')) + \\\n",
        "                      glob.glob(os.path.join(root, '*.[jJ][2]'))\n",
        "\n",
        "        num_images = len(image_files)\n",
        "        if num_images > 0:\n",
        "            print(f\"{root} - {num_images} images\")"
      ]
    },
    {
      "cell_type": "code",
      "execution_count": null,
      "metadata": {
        "id": "CwrdxADFqIBh"
      },
      "outputs": [],
      "source": [
        "count_images(f'{cur_dir}/yolo_data')"
      ]
    },
    {
      "cell_type": "code",
      "execution_count": null,
      "metadata": {
        "id": "swRAxmo0bj4A"
      },
      "outputs": [],
      "source": [
        "os.makedirs(f'{cur_dir}/test_data')"
      ]
    },
    {
      "cell_type": "code",
      "execution_count": null,
      "metadata": {
        "id": "SvhCaOs7Ye_U"
      },
      "outputs": [],
      "source": [
        "def copy_and_reorganize_yolo_data(source_dir, new_dir):\n",
        "    # Ensure the new directories are created\n",
        "    os.makedirs(os.path.join(new_dir, 'train'), exist_ok=True)\n",
        "    os.makedirs(os.path.join(new_dir, 'val'), exist_ok=True)\n",
        "    os.makedirs(os.path.join(new_dir, 'test'), exist_ok=True)\n",
        "\n",
        "    # Copy /val to new_dir/train\n",
        "    for category in range(5):\n",
        "        source_path = os.path.join(source_dir, 'val', str(category))\n",
        "        dest_path = os.path.join(new_dir, 'train', str(category))\n",
        "        os.makedirs(dest_path, exist_ok=True)\n",
        "        for file in glob(os.path.join(source_path, '*')):\n",
        "            shutil.copy(file, dest_path)\n",
        "\n",
        "    # Split /test into new_dir/val and new_dir/test evenly\n",
        "    for category in range(5):\n",
        "        source_path = os.path.join(source_dir, 'test', str(category))\n",
        "        files = glob(os.path.join(source_path, '*'))\n",
        "        # Shuffle files to randomly select for val and test\n",
        "        np.random.shuffle(files)\n",
        "        midpoint = len(files) // 2  # Find the midpoint for splitting\n",
        "\n",
        "        for dest_subdir, file_subset in zip(('val', 'test'), (files[:midpoint], files[midpoint:])):\n",
        "            dest_path = os.path.join(new_dir, dest_subdir, str(category))\n",
        "            os.makedirs(dest_path, exist_ok=True)\n",
        "            for file in file_subset:\n",
        "                shutil.copy(file, dest_path)\n",
        "\n",
        "# Example usage\n",
        "# copy_and_reorganize_yolo_data(f'{cur_dir}/yolo_data/', '/path/to/new_dir')\n"
      ]
    },
    {
      "cell_type": "code",
      "execution_count": null,
      "metadata": {
        "id": "lRuD3Z5FYgia"
      },
      "outputs": [],
      "source": [
        "# copy_and_reorganize_yolo_data(f'{cur_dir}/yolo_data', f'{cur_dir}/test_data')"
      ]
    },
    {
      "cell_type": "code",
      "execution_count": null,
      "metadata": {
        "colab": {
          "base_uri": "https://localhost:8080/"
        },
        "id": "MIYaqbw1bOys",
        "outputId": "bcc718a2-45f6-43b7-ea68-cf0ec1de39fe"
      },
      "outputs": [
        {
          "name": "stdout",
          "output_type": "stream",
          "text": [
            "/content/test_data/train/0 - 149 images\n",
            "/content/test_data/train/4 - 131 images\n",
            "/content/test_data/train/2 - 149 images\n",
            "/content/test_data/train/3 - 140 images\n",
            "/content/test_data/train/1 - 145 images\n",
            "/content/test_data/val/0 - 3379 images\n",
            "/content/test_data/val/4 - 101 images\n",
            "/content/test_data/val/2 - 787 images\n",
            "/content/test_data/val/3 - 131 images\n",
            "/content/test_data/val/1 - 416 images\n",
            "/content/test_data/test/0 - 3380 images\n",
            "/content/test_data/test/4 - 102 images\n",
            "/content/test_data/test/2 - 788 images\n",
            "/content/test_data/test/3 - 131 images\n",
            "/content/test_data/test/1 - 417 images\n"
          ]
        }
      ],
      "source": [
        "# count_images(f'{cur_dir}/test_data')"
      ]
    },
    {
      "cell_type": "markdown",
      "metadata": {
        "id": "ASDBEWu_gF10"
      },
      "source": [
        "# 2. Modelos de Redes Neurais"
      ]
    },
    {
      "cell_type": "markdown",
      "metadata": {
        "id": "LIkgzJST1mXB"
      },
      "source": [
        "## 2.1 - Família Yolo"
      ]
    },
    {
      "cell_type": "markdown",
      "metadata": {
        "id": "sxLGHzy419Wd"
      },
      "source": [
        "### 2.1.2 - Yolo V5"
      ]
    },
    {
      "cell_type": "code",
      "execution_count": null,
      "metadata": {
        "id": "pskftGdJfXQO"
      },
      "outputs": [],
      "source": [
        "# importando o modelo\n",
        "clone_repository('https://github.com/ultralytics/yolov5', f'{cur_dir}/yolov5')\n",
        "%cd yolov5\n",
        "%pip install -qr requirements.txt  # install\n",
        "display = utils.notebook_init()  # checks"
      ]
    },
    {
      "cell_type": "code",
      "execution_count": null,
      "metadata": {
        "id": "XBg39DU8fyRG"
      },
      "outputs": [],
      "source": [
        "# baixando os pesos\n",
        "%cd ../yolov5\n",
        "\n",
        "p5 = ['n', 's', 'm', 'l', 'x']  # P5 models\n",
        "cls = [f'{x}-cls' for x in p5]  # classification models\n",
        "\n",
        "for x in cls:\n",
        "    attempt_download(f'weights/yolov5{x}.pt')"
      ]
    },
    {
      "cell_type": "markdown",
      "metadata": {
        "id": "GewElHW9hlq8"
      },
      "source": [
        "#### Treinamento"
      ]
    },
    {
      "cell_type": "code",
      "execution_count": null,
      "metadata": {
        "colab": {
          "base_uri": "https://localhost:8080/"
        },
        "id": "dGxWows5gHlg",
        "outputId": "367c5ac7-084b-4f54-990e-685d6b6f00db"
      },
      "outputs": [
        {
          "name": "stdout",
          "output_type": "stream",
          "text": [
            "2024-03-10 21:53:07.497419: E external/local_xla/xla/stream_executor/cuda/cuda_dnn.cc:9261] Unable to register cuDNN factory: Attempting to register factory for plugin cuDNN when one has already been registered\n",
            "2024-03-10 21:53:07.497482: E external/local_xla/xla/stream_executor/cuda/cuda_fft.cc:607] Unable to register cuFFT factory: Attempting to register factory for plugin cuFFT when one has already been registered\n",
            "2024-03-10 21:53:07.499566: E external/local_xla/xla/stream_executor/cuda/cuda_blas.cc:1515] Unable to register cuBLAS factory: Attempting to register factory for plugin cuBLAS when one has already been registered\n",
            "\u001b[34m\u001b[1mclassify/train: \u001b[0mmodel=yolov5s-cls.pt, data=/content/test_data, epochs=10, batch_size=64, imgsz=512, nosave=False, cache=None, device=0, workers=8, project=runs/train-cls, name=exp, exist_ok=False, pretrained=/content/yolov5/runs/train-cls/exp2/weights/best.pt, optimizer=Adam, lr0=0.001, decay=5e-05, label_smoothing=0.1, cutoff=None, dropout=None, verbose=False, seed=0, local_rank=-1\n",
            "\u001b[34m\u001b[1mgithub: \u001b[0mup to date with https://github.com/ultralytics/yolov5 ✅\n",
            "YOLOv5 🚀 v7.0-294-gdb125a20 Python-3.10.12 torch-2.1.0+cu121 CUDA:0 (Tesla V100-SXM2-16GB, 16151MiB)\n",
            "\n",
            "\u001b[34m\u001b[1mTensorBoard: \u001b[0mStart with 'tensorboard --logdir runs/train-cls', view at http://localhost:6006/\n",
            "\u001b[34m\u001b[1malbumentations: \u001b[0mRandomResizedCrop(p=1.0, height=512, width=512, scale=(0.08, 1.0), ratio=(0.75, 1.3333333333333333), interpolation=1), HorizontalFlip(p=0.5), ColorJitter(p=0.5, brightness=[0.6, 1.4], contrast=[0.6, 1.4], saturation=[0.6, 1.4], hue=[0, 0]), Normalize(p=1.0, mean=(0.485, 0.456, 0.406), std=(0.229, 0.224, 0.225), max_pixel_value=255.0), ToTensorV2(always_apply=True, p=1.0, transpose_mask=False)\n",
            "Model summary: 149 layers, 4178885 parameters, 4178885 gradients, 10.5 GFLOPs\n",
            "\u001b[34m\u001b[1moptimizer:\u001b[0m Adam(lr=0.001) with parameter groups 32 weight(decay=0.0), 33 weight(decay=5e-05), 33 bias\n",
            "Image sizes 512 train, 512 test\n",
            "Using 1 dataloader workers\n",
            "Logging results to \u001b[1mruns/train-cls/exp3\u001b[0m\n",
            "Starting yolov5s-cls.pt training on /content/test_data dataset with 5 classes for 10 epochs...\n",
            "\n",
            "     Epoch   GPU_mem  train_loss   test_loss    top1_acc    top5_acc\n",
            "      1/10     6.33G         1.7        1.65      0.0866           1: 100% 12/12 [01:37<00:00,  8.16s/it]\n",
            "      2/10     7.94G        1.63        1.65       0.164           1: 100% 12/12 [01:37<00:00,  8.13s/it]\n",
            "      3/10     7.94G        1.62        1.59       0.164           1: 100% 12/12 [01:39<00:00,  8.26s/it]\n",
            "      4/10     7.94G        1.61         1.6       0.164           1: 100% 12/12 [01:39<00:00,  8.26s/it]\n",
            "      5/10     7.94G        1.61         1.6       0.164           1: 100% 12/12 [01:42<00:00,  8.58s/it]\n",
            "      6/10     7.94G        1.62        1.58       0.374           1: 100% 12/12 [01:39<00:00,  8.26s/it]\n",
            "      7/10     7.94G         1.6        1.59       0.258           1: 100% 12/12 [01:39<00:00,  8.30s/it]\n",
            "      8/10     7.94G        1.61        1.58       0.389           1: 100% 12/12 [01:41<00:00,  8.44s/it]\n",
            "      9/10     7.94G        1.59        1.58       0.336           1: 100% 12/12 [01:41<00:00,  8.42s/it]\n",
            "     10/10     7.94G        1.59        1.57        0.32           1: 100% 12/12 [01:39<00:00,  8.32s/it]\n",
            "\n",
            "Training complete (0.278 hours)\n",
            "Results saved to \u001b[1mruns/train-cls/exp3\u001b[0m\n",
            "Predict:         python classify/predict.py --weights runs/train-cls/exp3/weights/best.pt --source im.jpg\n",
            "Validate:        python classify/val.py --weights runs/train-cls/exp3/weights/best.pt --data /content/test_data\n",
            "Export:          python export.py --weights runs/train-cls/exp3/weights/best.pt --include onnx\n",
            "PyTorch Hub:     model = torch.hub.load('ultralytics/yolov5', 'custom', 'runs/train-cls/exp3/weights/best.pt')\n",
            "Visualize:       https://netron.app\n",
            "\n"
          ]
        }
      ],
      "source": [
        "for i in range(1, 6):\n",
        "  weights = ff'{cur_dir}/yolov5/runs/train-cls/exp{i}/weights/best.pt'\n",
        "  if i == 1:\n",
        "    weights = f'{cur_dir}/yolov5/weights/yolov5s-cls.pt'\n",
        "  with open('set_variable.sh', 'w') as file:\n",
        "    file.write(f'WEIGHTS_PATH=\"{weights}\"\\n')\n",
        "  !sh ./set_variable.sh\n",
        "  !python classify/train.py --model yolov5s-cls.pt --data {cur_dir}/yolo_data --epochs 20 --img 1024 --pretrained $WEIGHTS_PATH --batch-size 256 --device 0 --dropout 0.2\n",
        "  !python classify/val.py --weights $WEIGHTS_PATH --data {cur_dir}/yolo_data\n",
        "# !python classify/train.py --model yolov5s-cls.pt --data $DATASET_NAME --epochs 20 --img 128 --pretrained weights/yolov5s-cls.pt\n",
        "# !python classify/train.py --model yolov5s-cls.pt --data {cur_dir}/yolo_data --epochs 20 --img 256 --pretrained {cur_dir}/yolov5/runs/train-cls/exp2/weights/best.pt --batch-size 354 --device 0"
      ]
    },
    {
      "cell_type": "code",
      "execution_count": null,
      "metadata": {
        "id": "zWJHwo3Sk_4q"
      },
      "outputs": [],
      "source": [
        "!cp {cur_dir}/yolov5/runs/train-cls/exp2/weights/best.pt {cur_dir}/gdrive/MyDrive/yolov5_weights/best_512_exp2t"
      ]
    },
    {
      "cell_type": "code",
      "execution_count": null,
      "metadata": {
        "colab": {
          "base_uri": "https://localhost:8080/"
        },
        "id": "J-hUtrkMi9nn",
        "outputId": "d80dde35-75d6-4af8-eab5-a6ffb106faea"
      },
      "outputs": [
        {
          "name": "stdout",
          "output_type": "stream",
          "text": [
            "\u001b[34m\u001b[1mclassify/val: \u001b[0mdata=/content/yolo_data, weights=['runs/train-cls/exp/weights/best.pt'], batch_size=128, imgsz=224, device=, workers=8, verbose=True, project=runs/val-cls, name=exp, exist_ok=False, half=False, dnn=False\n",
            "YOLOv5 🚀 v7.0-294-gdb125a20 Python-3.10.12 torch-2.1.0+cu121 CUDA:0 (Tesla V100-SXM2-16GB, 16151MiB)\n",
            "\n",
            "Fusing layers... \n",
            "Model summary: 117 layers, 4173093 parameters, 0 gradients, 10.4 GFLOPs\n",
            "testing: 100% 76/76 [01:45<00:00,  1.38s/it]\n",
            "                   Class      Images    top1_acc    top5_acc\n",
            "                     all        9632       0.587           1\n",
            "                       0        6759       0.809           1\n",
            "                       1         833       0.182           1\n",
            "                       2        1575      0.0178           1\n",
            "                       3         262           0           1\n",
            "                       4         203      0.0493           1\n",
            "Speed: 0.1ms pre-process, 0.2ms inference, 0.0ms post-process per image at shape (1, 3, 224, 224)\n",
            "Results saved to \u001b[1mruns/val-cls/exp3\u001b[0m\n"
          ]
        }
      ],
      "source": [
        "!python classify/val.py --weights runs/train-cls/exp/weights/best.pt --data {cur_dir}/yolo_data"
      ]
    },
    {
      "cell_type": "markdown",
      "metadata": {
        "id": "N8GEVH1a2A8r"
      },
      "source": [
        "### 2.1.3 - Yolo V7"
      ]
    },
    {
      "cell_type": "markdown",
      "metadata": {
        "id": "l9UCx17a2Joy"
      },
      "source": [
        "## 2.2 - CNNs Clássicas\n",
        "\n"
      ]
    },
    {
      "cell_type": "markdown",
      "metadata": {
        "id": "KRpcScNvgGA7"
      },
      "source": [
        "# 3. Treinamento (Fine-Tuning)"
      ]
    },
    {
      "cell_type": "markdown",
      "metadata": {
        "id": "2KOfgX3vgkjf"
      },
      "source": [
        "# 4. Teste"
      ]
    },
    {
      "cell_type": "markdown",
      "metadata": {
        "id": "qfroPV0ogqCi"
      },
      "source": [
        "# 5. Conclusões"
      ]
    }
  ],
  "metadata": {
    "colab": {
      "provenance": []
    },
    "kernelspec": {
      "display_name": "Python 3",
      "name": "python3"
    },
    "language_info": {
      "codemirror_mode": {
        "name": "ipython",
        "version": 3
      },
      "file_extension": ".py",
      "mimetype": "text/x-python",
      "name": "python",
      "nbconvert_exporter": "python",
      "pygments_lexer": "ipython3",
      "version": "3.10.13"
    }
  },
  "nbformat": 4,
  "nbformat_minor": 0
}
